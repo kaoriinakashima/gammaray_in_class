{
 "cells": [
  {
   "cell_type": "code",
   "execution_count": 1,
   "metadata": {},
   "outputs": [],
   "source": [
    "# the idea of this notebook is to get the data from the database based on the selection we wrote in the 'query.txt' file\n",
    "# the output will be the 'data_integral.p' file \n",
    "\n",
    "# doing like this because this is the same as written in the tutorial"
   ]
  },
  {
   "cell_type": "code",
   "execution_count": 1,
   "metadata": {},
   "outputs": [],
   "source": [
    "import numpy as np\n",
    "import pickle\n",
    "import mysql.connector"
   ]
  },
  {
   "cell_type": "code",
   "execution_count": 2,
   "metadata": {},
   "outputs": [],
   "source": [
    "# Read the MySQL query from a text file\n",
    "queryFile = open('query.txt')\n",
    "query = queryFile.read()\n",
    "queryFile.close()"
   ]
  },
  {
   "cell_type": "code",
   "execution_count": 3,
   "metadata": {},
   "outputs": [],
   "source": [
    "# Open a connection to the MySQL database\n",
    "conn = mysql.connector.connect(user='xxxx',password='xxxxx',host='xxxx',database='xxxx',port='xxxx')\n",
    "cursor = conn.cursor()\n",
    "cursor.execute(query)"
   ]
  },
  {
   "cell_type": "code",
   "execution_count": 4,
   "metadata": {},
   "outputs": [],
   "source": [
    "# here we are saving the data in an output file named 'data_integral.p'\n",
    "with open('data_integral.p','wb') as outFile:\n",
    "    description = np.array(cursor.description).T[0]\n",
    "    \n",
    "    # here is writing the name of each column\n",
    "    pickle.dump(description,outFile,pickle.HIGHEST_PROTOCOL)\n",
    "    \n",
    "    # here for each event from the database we extract, it will be written in the output file\n",
    "    for Event in cursor:\n",
    "        pickle.dump(Event,outFile,pickle.HIGHEST_PROTOCOL)\n",
    "conn.close()"
   ]
  },
  {
   "cell_type": "code",
   "execution_count": null,
   "metadata": {},
   "outputs": [],
   "source": []
  }
 ],
 "metadata": {
  "kernelspec": {
   "display_name": "Python 3",
   "language": "python",
   "name": "python3"
  },
  "language_info": {
   "codemirror_mode": {
    "name": "ipython",
    "version": 3
   },
   "file_extension": ".py",
   "mimetype": "text/x-python",
   "name": "python",
   "nbconvert_exporter": "python",
   "pygments_lexer": "ipython3",
   "version": "3.7.0"
  }
 },
 "nbformat": 4,
 "nbformat_minor": 4
}
