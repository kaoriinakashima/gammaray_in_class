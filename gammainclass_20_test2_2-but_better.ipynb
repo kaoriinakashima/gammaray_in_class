{
 "cells": [
  {
   "cell_type": "markdown",
   "metadata": {},
   "source": [
    "### Plotting theta² \n",
    "binned in runs, or in nights."
   ]
  },
  {
   "cell_type": "code",
   "execution_count": 7,
   "metadata": {},
   "outputs": [],
   "source": [
    "import numpy as np\n",
    "import pickle\n",
    "import mysql.connector\n",
    "import matplotlib.pyplot as plt\n",
    "import pandas as pd\n",
    "import pymysql\n",
    "import os\n",
    "from matplotlib.offsetbox import AnchoredText"
   ]
  },
  {
   "cell_type": "code",
   "execution_count": 8,
   "metadata": {},
   "outputs": [],
   "source": [
    "# this is how we connect and put the mql command\n",
    "\n",
    "def query(command):\n",
    "    conn = mysql.connector.connect(user='xxxx',password='xxxxx',host='xxxx',database='xxxx',port='xxxx')\n",
    "    cursor = conn.cursor()    \n",
    "    result = pd.read_sql_query(command, conn)\n",
    "    conn.close()\n",
    "    return result"
   ]
  },
  {
   "cell_type": "code",
   "execution_count": 9,
   "metadata": {},
   "outputs": [],
   "source": [
    "cmd = '''\n",
    "SELECT\n",
    "   Images.*,\n",
    "   Position.X,\n",
    "   Position.Y\n",
    "FROM\n",
    "   Images\n",
    "LEFT JOIN Position USING (FileId, EvtNumber)\n",
    "LEFT JOIN RunInfo  USING (FileId)\n",
    "WHERE\n",
    "   fSourceKey=7\n",
    "AND\n",
    "   fRunTypeKey=1\n",
    "AND\n",
    "   FileId BETWEEN 160601000 AND 160615000\n",
    "AND\n",
    "   fR750Cor>0.9*fR750Ref\n",
    "AND\n",
    "   NumUsedPixels>5.5\n",
    "AND\n",
    "   NumIslands<3.5\n",
    "AND\n",
    "   Leakage1<0.1\n",
    "AND\n",
    "   Width*Length*PI() < LOG10(Size)*898-1535\n",
    "'''\n",
    "data = query(cmd)"
   ]
  },
  {
   "cell_type": "code",
   "execution_count": 10,
   "metadata": {},
   "outputs": [
    {
     "name": "stdout",
     "output_type": "stream",
     "text": [
      "547\n"
     ]
    }
   ],
   "source": [
    "# here I'm saving how many runs we have in this period\n",
    "unique_runs = np.unique(data['FileId'])\n",
    "print(len(unique_runs))"
   ]
  },
  {
   "cell_type": "code",
   "execution_count": 11,
   "metadata": {},
   "outputs": [
    {
     "data": {
      "text/plain": [
       "Index(['FileId', 'EvtNumber', 'Mjd', 'MilliSec', 'NanoSec', 'Length', 'Width',\n",
       "       'Delta', 'Size', 'MeanX', 'MeanY', 'SinDelta', 'CosDelta', 'Asym',\n",
       "       'M3Long', 'M3Trans', 'SlopeLong', 'SlopeTrans', 'TimeSpread',\n",
       "       'TimeSpreadWeighted', 'SlopeSpread', 'SlopeSpreadWeighted',\n",
       "       'NumIslands', 'SizeSubIslands', 'SizeMainIsland', 'Leakage1',\n",
       "       'Leakage2', 'Conc', 'Conc1', 'ConcCOG', 'ConcCore', 'UsedArea',\n",
       "       'CoreArea', 'NumUsedPixels', 'NumCorePixels', 'X', 'Y'],\n",
       "      dtype='object')"
      ]
     },
     "execution_count": 11,
     "metadata": {},
     "output_type": "execute_result"
    }
   ],
   "source": [
    "data.columns"
   ]
  },
  {
   "cell_type": "code",
   "execution_count": 12,
   "metadata": {},
   "outputs": [],
   "source": [
    "# useful values\n",
    "mm2deg = 0.0117193246260285378\n",
    "# Create bins for the histogram\n",
    "bins_number = 30\n",
    "bins = np.linspace(0,0.3,bins_number+1)\n",
    "# ratio between on and off regions\n",
    "ratio_on_off = 1/5 "
   ]
  },
  {
   "cell_type": "code",
   "execution_count": 13,
   "metadata": {},
   "outputs": [],
   "source": [
    "# transforming the column names into arrays with the name of the column and with its values\n",
    "for par in list(data.columns):\n",
    "    vars()[par] = data[f'{par}'].values"
   ]
  },
  {
   "cell_type": "code",
   "execution_count": 14,
   "metadata": {},
   "outputs": [],
   "source": [
    "# First calculate all cuts to speed the analysis up\n",
    "area =  np.pi*Width*Length\n",
    "    \n",
    "non = []\n",
    "noff = []\n",
    "\n",
    "# Loop over all wobble positions in the camera\n",
    "for angle in range(0,360,60):\n",
    "\n",
    "    # ----------- Source dependent parameter calculation ----------\n",
    "    cr = np.cos(np.deg2rad(angle))\n",
    "    sr = np.sin(np.deg2rad(angle))\n",
    "\n",
    "    # the position of the source in each wobble position\n",
    "    px = cr * X - sr * Y \n",
    "    py = cr * Y + sr * X  \n",
    "\n",
    "    # distance of the center of gravity to the source center in each wobble position\n",
    "    dx = MeanX - px * 1.02  \n",
    "    dy = MeanY - py * 1.02\n",
    "\n",
    "    norm = np.sqrt(dx*dx+dy*dy)\n",
    "    dist = norm*mm2deg\n",
    "\n",
    "    # these are unitary vectors in the ellipse frame, lx and ly are alligned with the short and long ellipse axes\n",
    "    lx = np.minimum(np.maximum((CosDelta * dy - SinDelta * dx) / norm,(-1*np.ones(area.shape))), np.ones(area.shape))\n",
    "    ly = np.minimum(np.maximum((CosDelta * dx + SinDelta * dy) / norm,(-1*np.ones(area.shape))), np.ones(area.shape))\n",
    "\n",
    "    alpha = np.arcsin(lx)\n",
    "    sgn = np.sign(ly)\n",
    "\n",
    "    # ------------------------ Application ---------------------\n",
    "    # both help to say which of the two solutions for disp i should use\n",
    "    m3l = M3Long * sgn * mm2deg\n",
    "    slope = SlopeLong * sgn / mm2deg\n",
    "\n",
    "    # -------------------------- Analysis ----------------------\n",
    "    xi = 1.39252 + 0.154247 * slope + 1.67972 * (1 - 1 / (1 + 4.86232 * Leakage1))\n",
    "\n",
    "    sign1 = m3l + 0.07\n",
    "    sign2 = (dist - 0.5) * 7.2 - slope\n",
    "\n",
    "    xi_final = xi.copy()\n",
    "    for i, is_negative in enumerate((sign1<0) | (sign2<0)):\n",
    "        if is_negative:\n",
    "            xi_final[i] = -xi_final[i]\n",
    "\n",
    "    disp = xi_final * (1 - Width / Length)\n",
    "\n",
    "    # this is the formula c^2 = a^2 + b^2 - 2ab*cos alpha , cos² alpha + sin² = 1\n",
    "    # in this case dist = distance of the ellipse center to the pointing \n",
    "    thetasq = disp*disp + dist*dist - 2*disp*dist*np.sqrt(1 - lx*lx)\n",
    "    \n",
    "    if angle == 0:\n",
    "        non.append(thetasq)\n",
    "    else:\n",
    "        noff.append(thetasq)"
   ]
  },
  {
   "cell_type": "code",
   "execution_count": 15,
   "metadata": {},
   "outputs": [],
   "source": [
    "non = np.asarray(non)\n",
    "noff = np.asarray(noff)\n",
    "noff = noff.ravel()\n",
    "\n",
    "# in noff is appended the theta sqrt of each event regarding the center of each wobble position\n",
    "# the ravel will make all the off position in only one array"
   ]
  },
  {
   "cell_type": "code",
   "execution_count": 16,
   "metadata": {},
   "outputs": [],
   "source": [
    "# set the counts as hist and setting the ration between on and off in the off events\n",
    "\n",
    "noff_hist = np.histogram(noff, bins=bins)\n",
    "non_hist = np.histogram(non, bins=bins)"
   ]
  },
  {
   "cell_type": "code",
   "execution_count": 17,
   "metadata": {},
   "outputs": [
    {
     "data": {
      "text/plain": [
       "<matplotlib.legend.Legend at 0x7fdb4a4b9310>"
      ]
     },
     "execution_count": 17,
     "metadata": {},
     "output_type": "execute_result"
    },
    {
     "data": {
      "image/png": "[encoded data removed]",
      "text/plain": [
       "<Figure size 432x288 with 1 Axes>"
      ]
     },
     "metadata": {
      "needs_background": "light"
     },
     "output_type": "display_data"
    }
   ],
   "source": [
    "plt.hist(bins[:-1],bins=bins,histtype='step',weights=non_hist[0], label='ON')\n",
    "plt.hist(bins[:-1],bins=bins,histtype='step',weights=ratio_on_off*noff_hist[0], label='OFF')\n",
    "plt.title(r'$\\theta^{2}$')\n",
    "plt.grid(alpha=0.25)\n",
    "plt.xlabel(r'$\\theta^{2} [deg^{2}]$')\n",
    "plt.ylabel('Events counts')\n",
    "plt.legend()\n",
    "\n",
    "# by uncommenting the following line you can save the plot once you created a folder named plots\n",
    "# plt.savefig('../plots/theta2.pdf')"
   ]
  },
  {
   "cell_type": "code",
   "execution_count": 18,
   "metadata": {},
   "outputs": [],
   "source": [
    "# you will decide where you want to cut the data\n",
    "cut_theta2 = 0.04"
   ]
  },
  {
   "cell_type": "code",
   "execution_count": 19,
   "metadata": {},
   "outputs": [],
   "source": [
    "def LiMa_significance(N_on, N_off, alpha):\n",
    "    '''\n",
    "    function to calculate how significant the excess of the on region \n",
    "    is compared to the off region, with\n",
    "    N_on the total counts in ON region,\n",
    "    N_off the total counts in off region,\n",
    "    alpha the ratio of ON/OFF areas, in this case 1/5\n",
    "    '''\n",
    "    \n",
    "    term1 = ( ( (1 + alpha) / alpha ) * (N_on / (N_on + N_off)) )\n",
    "    term2 = (1 + alpha) * (N_off / (N_on + N_off))\n",
    "    brakets = N_on * np.log(term1) + N_off * np.log(term2)\n",
    "    \n",
    "    return np.sqrt(2)*brakets**(1/2)"
   ]
  },
  {
   "cell_type": "code",
   "execution_count": 20,
   "metadata": {},
   "outputs": [],
   "source": [
    "# select the bins that are below the cut in theta2\n",
    "mask_theta2 = bins < cut_theta2"
   ]
  },
  {
   "cell_type": "code",
   "execution_count": 21,
   "metadata": {},
   "outputs": [],
   "source": [
    "# summing the counts that survived the cut in theta2\n",
    "N_on = np.sum(non_hist[0][mask_theta2[:-1]])\n",
    "N_off = np.sum(noff_hist[0][mask_theta2[:-1]])"
   ]
  },
  {
   "cell_type": "code",
   "execution_count": 22,
   "metadata": {},
   "outputs": [
    {
     "name": "stdout",
     "output_type": "stream",
     "text": [
      "24.751572221016268\n"
     ]
    }
   ],
   "source": [
    "# calculating the significance\n",
    "significance = LiMa_significance(N_on, N_off, ratio_on_off)\n",
    "print(significance)"
   ]
  },
  {
   "cell_type": "code",
   "execution_count": 34,
   "metadata": {},
   "outputs": [
    {
     "data": {
      "text/plain": [
       "<matplotlib.offsetbox.AnchoredText at 0x7fdb28a6a410>"
      ]
     },
     "execution_count": 34,
     "metadata": {},
     "output_type": "execute_result"
    },
    {
     "data": {
      "image/png": "[encoded data removed]",
      "text/plain": [
       "<Figure size 432x288 with 1 Axes>"
      ]
     },
     "metadata": {
      "needs_background": "light"
     },
     "output_type": "display_data"
    }
   ],
   "source": [
    "plt.hist(bins[:-1],bins=bins, histtype='stepfilled', color='lightgray', weights=ratio_on_off*noff_hist[0], label='OFF')\n",
    "plt.hist(bins[:-1],bins=bins, histtype='step', color='gray', weights=ratio_on_off*noff_hist[0])\n",
    "plt.hist(bins[:-1],bins=bins, histtype='step', weights=non_hist[0], label='ON')\n",
    "\n",
    "plt.vlines(x=cut_theta2, ymin=plt.ylim()[0], ymax=plt.ylim()[1], ls='--', color='black', label=\"cut\")\n",
    "plt.title(r'$\\theta^{2}$')\n",
    "plt.grid(alpha=0.25)\n",
    "plt.xlabel(r'$\\theta^{2} [deg^{2}]$')\n",
    "plt.ylabel('Events counts')\n",
    "plt.legend(loc='lower right')\n",
    "\n",
    "ax = plt.gca()\n",
    "at0 = AnchoredText(\n",
    "                f\"N_on = {np.int(N_on)}\\n\"\n",
    "                f\"N_off = {np.int(N_off)}\\n\"\n",
    "                f\"Excess = {(N_on - N_off*1/5) :.3f}\\n\"\n",
    "                f\"Significance = {significance:.3f}\"\n",
    "                r\"$\\sigma^{2}$\"\n",
    "                f\"\\nCut = {cut_theta2:.3f}\"\n",
    "                , loc='upper right')\n",
    "ax.add_artist(at0)"
   ]
  },
  {
   "cell_type": "code",
   "execution_count": 27,
   "metadata": {},
   "outputs": [
    {
     "data": {
      "text/plain": [
       "<matplotlib.legend.Legend at 0x7fba21434c50>"
      ]
     },
     "execution_count": 27,
     "metadata": {},
     "output_type": "execute_result"
    },
    {
     "data": {
      "image/png": "[encoded data removed]",
      "text/plain": [
       "<Figure size 432x288 with 1 Axes>"
      ]
     },
     "metadata": {
      "needs_background": "light"
     },
     "output_type": "display_data"
    }
   ],
   "source": [
    "plt.hist(bins[:-1],bins=bins,histtype='stepfilled', color='lightgray', weights=ratio_on_off*noff_hist[0], label='OFF')\n",
    "plt.hist(bins[:-1],bins=bins,histtype='step', color='gray', weights=ratio_on_off*noff_hist[0])\n",
    "plt.hist(bins[:-1],bins=bins,histtype='step',weights=non_hist[0], label='ON')\n",
    "plt.title(r'$\\theta^{2}$')\n",
    "plt.grid(alpha=0.25)\n",
    "plt.xlabel(r'$\\theta^{2} [deg^{2}]$')\n",
    "plt.ylabel('Events counts')\n",
    "plt.legend(loc='lower right')"
   ]
  },
  {
   "cell_type": "code",
   "execution_count": null,
   "metadata": {},
   "outputs": [],
   "source": []
  }
 ],
 "metadata": {
  "kernelspec": {
   "display_name": "gammainclass",
   "language": "python",
   "name": "gammainclass"
  },
  "language_info": {
   "codemirror_mode": {
    "name": "ipython",
    "version": 3
   },
   "file_extension": ".py",
   "mimetype": "text/x-python",
   "name": "python",
   "nbconvert_exporter": "python",
   "pygments_lexer": "ipython3",
   "version": "3.7.7"
  }
 },
 "nbformat": 4,
 "nbformat_minor": 4
}
