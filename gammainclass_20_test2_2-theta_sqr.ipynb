{
 "cells": [
  {
   "cell_type": "code",
   "execution_count": null,
   "metadata": {},
   "outputs": [],
   "source": [
    "# notebook for calculating the theta sqrt plot from the .p file created in 1"
   ]
  },
  {
   "cell_type": "markdown",
   "metadata": {},
   "source": [
    "The theta sqr data is important to select only the events which is coming from direction close to the pointing source"
   ]
  },
  {
   "cell_type": "code",
   "execution_count": 1,
   "metadata": {},
   "outputs": [],
   "source": [
    "import numpy as np\n",
    "import pickle\n",
    "import matplotlib.pyplot as plt\n",
    "from matplotlib.offsetbox import AnchoredText"
   ]
  },
  {
   "cell_type": "code",
   "execution_count": 2,
   "metadata": {},
   "outputs": [],
   "source": [
    "# Here we are loading the data we saved before \n",
    "inFile = open('data_integral.p','rb')\n",
    "description = pickle.load(inFile)"
   ]
  },
  {
   "cell_type": "code",
   "execution_count": 3,
   "metadata": {},
   "outputs": [],
   "source": [
    "# Find indices corresponding to the different variables\n",
    "Length_idx = np.nonzero(description=='Length')[0][0]\n",
    "Width_idx = np.nonzero(description=='Width')[0][0]\n",
    "NumIslands_idx = np.nonzero(description=='NumIslands')[0][0]\n",
    "NumUsedPixels_idx = np.nonzero(description=='NumUsedPixels')[0][0]\n",
    "Leakage1_idx = np.nonzero(description=='Leakage1')[0][0]\n",
    "Size_idx = np.nonzero(description=='Size')[0][0]\n",
    "X_idx = np.nonzero(description=='X')[0][0]\n",
    "Y_idx = np.nonzero(description=='Y')[0][0]\n",
    "CosDelta_idx = np.nonzero(description=='CosDelta')[0][0]\n",
    "SinDelta_idx = np.nonzero(description=='SinDelta')[0][0]\n",
    "M3Long_idx = np.nonzero(description=='M3Long')[0][0]\n",
    "SlopeLong_idx = np.nonzero(description=='SlopeLong')[0][0]\n",
    "MeanX_idx = np.nonzero(description=='MeanX')[0][0]\n",
    "MeanY_idx = np.nonzero(description=='MeanY')[0][0]"
   ]
  },
  {
   "cell_type": "code",
   "execution_count": 4,
   "metadata": {},
   "outputs": [],
   "source": [
    "def FillHistogram(bins,n,value,weight=1):\n",
    "    idx = np.searchsorted(bins,value)\n",
    "    if not idx==0 and not idx>n.size:\n",
    "        n[idx-1]+=weight"
   ]
  },
  {
   "cell_type": "code",
   "execution_count": 5,
   "metadata": {},
   "outputs": [],
   "source": [
    "# useful values\n",
    "mm2deg = 0.0117193246260285378\n",
    "\n",
    "# Create bins for the histogram\n",
    "bins = np.linspace(0,0.3,31)\n",
    "non = np.zeros(30)\n",
    "noff = np.zeros(30)"
   ]
  },
  {
   "cell_type": "code",
   "execution_count": 6,
   "metadata": {},
   "outputs": [],
   "source": [
    "while True:\n",
    "    try:\n",
    "        Event = pickle.load(inFile)\n",
    "    except:\n",
    "        break\n",
    "\n",
    "    # Intialize all variables needed in the calculations\n",
    "    Length = Event[Length_idx]\n",
    "    Width = Event[Width_idx]\n",
    "    NumIslands = Event[NumIslands_idx]\n",
    "    NumUsedPixels = Event[NumUsedPixels_idx]\n",
    "    Leakage1 = Event[Leakage1_idx]\n",
    "    Size = Event[Size_idx]\n",
    "    X = Event[X_idx]\n",
    "    Y = Event[Y_idx]\n",
    "    CosDelta = Event[CosDelta_idx]\n",
    "    SinDelta = Event[SinDelta_idx]\n",
    "    M3Long = Event[M3Long_idx]\n",
    "    SlopeLong = Event[SlopeLong_idx]\n",
    "    MeanX = Event[MeanX_idx]\n",
    "    MeanY = Event[MeanY_idx]\n",
    "\n",
    "    # First calculate all cuts to speedup the analysis\n",
    "    area =  np.pi*Width*Length\n",
    "\n",
    "    # The abberation correction does increase also Width and Length by 1.02\n",
    "    cutq = (NumIslands<3.5 and NumUsedPixels>5.5 and Leakage1<0.1)\n",
    "    if not cutq:\n",
    "        continue\n",
    "\n",
    "    cut0 = area<(np.log10(Size)*898-1535)\n",
    "    if not cut0:\n",
    "        continue\n",
    "\n",
    "    # Loop over all wobble positions in the camera\n",
    "    for angle in range(0,360,60):\n",
    "        \n",
    "        # ----------- Source dependent parameter calculation ----------\n",
    "        cr = np.cos(np.deg2rad(angle))\n",
    "        sr = np.sin(np.deg2rad(angle))\n",
    "\n",
    "        # the position of the source in each wobble position\n",
    "        px = cr*X-sr*Y \n",
    "        py = cr*Y+sr*X  \n",
    "\n",
    "        # distance of the center of gravity to the source center in each wobble position\n",
    "        dx = MeanX-px*1.02  \n",
    "        dy = MeanY-py*1.02\n",
    "\n",
    "        norm = np.sqrt(dx*dx+dy*dy)\n",
    "        dist = norm*mm2deg\n",
    "        \n",
    "        # these are unitary vectors in the ellipse frame, lx and ly are alligned with the short and long ellipse axes\n",
    "        lx = np.min([np.max([(CosDelta*dy-SinDelta*dx)/norm,-1.]),1.])\n",
    "        ly = np.min([np.max([(CosDelta*dx+SinDelta*dy)/norm,-1.]),1.])\n",
    "\n",
    "        alpha = np.arcsin(lx)\n",
    "        sgn = np.sign(ly)\n",
    "\n",
    "        # ------------------------ Application ---------------------\n",
    "        # both help to say from which of the two solutions for disp i should use\n",
    "        m3l = M3Long*sgn*mm2deg\n",
    "        slope = SlopeLong*sgn/mm2deg\n",
    "\n",
    "        # -------------------------- Analysis ----------------------\n",
    "        xi = 1.39252+0.154247*slope+1.67972*(1-1/(1+4.86232*Leakage1))\n",
    "\n",
    "        sign1 = m3l+0.07\n",
    "        sign2 = (dist-0.5)*7.2-slope\n",
    "\n",
    "        disp = (-xi if (sign1<0 or sign2<0) else xi)*(1-Width/Length)\n",
    "        \n",
    "        # this is the formula c^2 = a^2 + b^2 - 2ab*cos alpha , cos² alpha + sin² = 1\n",
    "        # in this case dist = distance of the ellipse center to the pointing \n",
    "        thetasq = disp*disp+dist*dist-2*disp*dist*np.sqrt(1-lx*lx)\n",
    "\n",
    "        if angle==0:\n",
    "            FillHistogram(bins,non,thetasq)\n",
    "            thetasq_list_on.append(thetasq)\n",
    "        else:\n",
    "            FillHistogram(bins,noff,thetasq)\n",
    "            thetasq_list_off.append(thetasq)"
   ]
  },
  {
   "cell_type": "code",
   "execution_count": 7,
   "metadata": {},
   "outputs": [
    {
     "data": {
      "text/plain": [
       "<matplotlib.legend.Legend at 0x7f48c2495d68>"
      ]
     },
     "execution_count": 7,
     "metadata": {},
     "output_type": "execute_result"
    },
    {
     "data": {
      "image/png": "[encoded data removed]",
      "text/plain": [
       "<Figure size 432x288 with 1 Axes>"
      ]
     },
     "metadata": {
      "needs_background": "light"
     },
     "output_type": "display_data"
    }
   ],
   "source": [
    "plt.hist(bins[:-1],bins=bins,histtype='step',weights=non, label='ON')\n",
    "plt.hist(bins[:-1],bins=bins,histtype='step',weights=noff*(1/5), label='OFF')\n",
    "plt.title(r'$\\theta^{2}$')\n",
    "plt.grid(alpha=0.25)\n",
    "plt.xlabel(r'$\\theta^{2} [deg^{2}]$')\n",
    "plt.ylabel('Events counts')\n",
    "plt.legend()"
   ]
  },
  {
   "cell_type": "code",
   "execution_count": 15,
   "metadata": {},
   "outputs": [],
   "source": [
    "cut_theta2 = 0.04"
   ]
  },
  {
   "cell_type": "code",
   "execution_count": 16,
   "metadata": {},
   "outputs": [],
   "source": [
    "def LiMa_significance(N_on, N_off, alpha):\n",
    "    '''function to calculate how significance the excess of the on region is compared to off region\n",
    "    N_on the total counts in ON region\n",
    "    N_off the total counts in off region\n",
    "    alpha the ratio of ON/OFF areas, in this case 1/5'''\n",
    "    \n",
    "    term1 = ( ( (1+alpha)/alpha )*(N_on/(N_on+N_off)) )\n",
    "    term2 = (1+alpha)*(N_off/(N_on+N_off))\n",
    "    brakets = N_on*np.log(term1) + N_off*np.log(term2)\n",
    "    \n",
    "    return np.sqrt(2)*brakets**(1/2)"
   ]
  },
  {
   "cell_type": "code",
   "execution_count": 17,
   "metadata": {},
   "outputs": [],
   "source": [
    "# here is to select the bins that are below the cut in theta2\n",
    "mask_theta2 = bins < cut_theta2"
   ]
  },
  {
   "cell_type": "code",
   "execution_count": 18,
   "metadata": {},
   "outputs": [
    {
     "name": "stdout",
     "output_type": "stream",
     "text": [
      "[0.   0.01 0.02 0.03]\n"
     ]
    }
   ],
   "source": [
    "print(bins[mask_theta2])"
   ]
  },
  {
   "cell_type": "code",
   "execution_count": 19,
   "metadata": {},
   "outputs": [],
   "source": [
    "# summing the counts that survived the cut in theta2\n",
    "N_on = np.sum(non[mask_theta2[:-1]])\n",
    "N_off = np.sum(noff[mask_theta2[:-1]])"
   ]
  },
  {
   "cell_type": "code",
   "execution_count": 20,
   "metadata": {},
   "outputs": [
    {
     "name": "stdout",
     "output_type": "stream",
     "text": [
      "24.751572221016268\n"
     ]
    }
   ],
   "source": [
    "# calculating the significance\n",
    "significance = LiMa_significance(N_on, N_off, 1/5)\n",
    "print(significance)"
   ]
  },
  {
   "cell_type": "code",
   "execution_count": 21,
   "metadata": {},
   "outputs": [
    {
     "data": {
      "text/plain": [
       "<matplotlib.offsetbox.AnchoredText at 0x7f80ab351a20>"
      ]
     },
     "execution_count": 21,
     "metadata": {},
     "output_type": "execute_result"
    },
    {
     "data": {
      "image/png": "[encoded data removed]",
      "text/plain": [
       "<Figure size 432x288 with 1 Axes>"
      ]
     },
     "metadata": {
      "needs_background": "light"
     },
     "output_type": "display_data"
    }
   ],
   "source": [
    "plt.hist(bins[:-1],bins=bins,histtype='step',weights=non, label='ON')\n",
    "plt.hist(bins[:-1],bins=bins,histtype='step',weights=noff*(1/5), label='OFF')\n",
    "plt.vlines(x=cut_theta2, ymin=plt.ylim()[0], ymax=plt.ylim()[1], ls='--', color='black')\n",
    "plt.title(r'$\\theta^{2}$')\n",
    "plt.grid(alpha=0.25)\n",
    "plt.xlabel(r'$\\theta^{2} [deg^{2}]$')\n",
    "plt.ylabel('Events counts')\n",
    "plt.legend(loc='lower right')\n",
    "\n",
    "ax = plt.gca()\n",
    "at0 = AnchoredText(\n",
    "                f\"N_on = {np.int(N_on)}\\n\"\n",
    "                f\"N_off = {np.int(N_off)}\\n\"\n",
    "                f\"Excess = {(N_on - N_off*1/5) :.3f}\\n\"\n",
    "                f\"Significance = {significance:.3f}\"\n",
    "                r\"$\\sigma^{2}$\"\n",
    "                , loc='upper right')\n",
    "ax.add_artist(at0)"
   ]
  },
  {
   "cell_type": "code",
   "execution_count": null,
   "metadata": {},
   "outputs": [],
   "source": []
  }
 ],
 "metadata": {
  "kernelspec": {
   "display_name": "Python 3",
   "language": "python",
   "name": "python3"
  },
  "language_info": {
   "codemirror_mode": {
    "name": "ipython",
    "version": 3
   },
   "file_extension": ".py",
   "mimetype": "text/x-python",
   "name": "python",
   "nbconvert_exporter": "python",
   "pygments_lexer": "ipython3",
   "version": "3.7.0"
  }
 },
 "nbformat": 4,
 "nbformat_minor": 4
}
