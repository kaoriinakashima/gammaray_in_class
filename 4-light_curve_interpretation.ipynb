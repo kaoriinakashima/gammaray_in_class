{
 "cells": [
  {
   "cell_type": "code",
   "execution_count": 1,
   "metadata": {},
   "outputs": [],
   "source": [
    "import numpy as np\n",
    "import matplotlib.pyplot as plt\n",
    "from astropy.table import Table"
   ]
  },
  {
   "cell_type": "markdown",
   "metadata": {},
   "source": [
    "Reload the light curve generated with the `3-light_curve_draft.ipynb` notebook:"
   ]
  },
  {
   "cell_type": "code",
   "execution_count": 2,
   "metadata": {},
   "outputs": [],
   "source": [
    "lc = np.load(\"light_curve.npz\")"
   ]
  },
  {
   "cell_type": "code",
   "execution_count": 3,
   "metadata": {},
   "outputs": [
    {
     "name": "stdout",
     "output_type": "stream",
     "text": [
      "excess_per_hour\n",
      "excess_per_hour_err\n",
      "mjd\n",
      "mjd_min\n",
      "mjd_max\n"
     ]
    }
   ],
   "source": [
    "# transforming the key names into arrays with the name of the column and with its values\n",
    "for k in lc.keys():\n",
    "    print (k)\n",
    "    vars()[k] = lc[f'{k}']"
   ]
  },
  {
   "cell_type": "markdown",
   "metadata": {},
   "source": [
    "Re-plot the light curve:"
   ]
  },
  {
   "cell_type": "code",
   "execution_count": 4,
   "metadata": {},
   "outputs": [
    {
     "data": {
      "image/png": "[encoded data removed]",
      "text/plain": [
       "<Figure size 432x288 with 1 Axes>"
      ]
     },
     "metadata": {
      "needs_background": "light"
     },
     "output_type": "display_data"
    }
   ],
   "source": [
    "plt.errorbar(mjd, excess_per_hour,\n",
    "             yerr=excess_per_hour_err,\n",
    "             xerr=[mjd - mjd_min, mjd_max - mjd],\n",
    "             ls='none', marker='o')\n",
    "plt.ylabel('excess/hour')\n",
    "plt.xlabel(\"Time (MJD)\")\n",
    "plt.grid(alpha=0.25)"
   ]
  },
  {
   "cell_type": "markdown",
   "metadata": {},
   "source": [
    "Visit the <a href=https://fermi.gsfc.nasa.gov/ssc/data/access/lat/msl_lc/>weely monitored source list</a> page of the Fermi-LAT collaboration and browse to your source. Download the fits files for the weekly and daily light curves there or simply change the link below to the right location."
   ]
  },
  {
   "cell_type": "markdown",
   "metadata": {},
   "source": [
    "Daily light curve:"
   ]
  },
  {
   "cell_type": "code",
   "execution_count": 5,
   "metadata": {},
   "outputs": [
    {
     "name": "stdout",
     "output_type": "stream",
     "text": [
      "  % Total    % Received % Xferd  Average Speed   Time    Time     Time  Current\n",
      "                                 Dload  Upload   Total   Spent    Left  Speed\n",
      "100  317k  100  317k    0     0   186k      0  0:00:01  0:00:01 --:--:--  186k\n"
     ]
    }
   ],
   "source": [
    "!curl https://fermi.gsfc.nasa.gov/FTP/glast/data/lat/catalogs/asp/current/lightcurves/1ES1959+650_86400.lc --output daily_lc.fits"
   ]
  },
  {
   "cell_type": "markdown",
   "metadata": {},
   "source": [
    "Weekly light curve:"
   ]
  },
  {
   "cell_type": "code",
   "execution_count": 6,
   "metadata": {},
   "outputs": [
    {
     "name": "stdout",
     "output_type": "stream",
     "text": [
      "  % Total    % Received % Xferd  Average Speed   Time    Time     Time  Current\n",
      "                                 Dload  Upload   Total   Spent    Left  Speed\n",
      "100 72000  100 72000    0     0  63740      0  0:00:01  0:00:01 --:--:-- 63773\n"
     ]
    }
   ],
   "source": [
    "!curl https://fermi.gsfc.nasa.gov/FTP/glast/data/lat/catalogs/asp/current/lightcurves/1ES1959+650_604800.lc --output weekly_lc.fits"
   ]
  },
  {
   "cell_type": "markdown",
   "metadata": {},
   "source": [
    "Open the light curve files and inspect their content"
   ]
  },
  {
   "cell_type": "code",
   "execution_count": 7,
   "metadata": {},
   "outputs": [],
   "source": [
    "daily = Table.read(\"daily_lc.fits\")\n",
    "weekly = Table.read(\"weekly_lc.fits\")"
   ]
  },
  {
   "cell_type": "code",
   "execution_count": 8,
   "metadata": {},
   "outputs": [
    {
     "data": {
      "text/html": [
       "<i>Table length=4138</i>\n",
       "<table id=\"table4850004320\" class=\"table-striped table-bordered table-condensed\">\n",
       "<thead><tr><th>START</th><th>STOP</th><th>NAME</th><th>RA</th><th>DEC</th><th>FLUX_1000_300000</th><th>ERROR_1000_300000</th><th>UL_1000_300000</th><th>FLUX_300_1000</th><th>ERROR_300_1000</th><th>UL_300_1000</th><th>FLUX_100_300000</th><th>ERROR_100_300000</th><th>UL_100_300000</th><th>DURATION</th><th>TEST_STATISTIC</th></tr></thead>\n",
       "<thead><tr><th>s</th><th>s</th><th></th><th>deg</th><th>deg</th><th>photons/cm**2/s</th><th>photons/cm**2/s</th><th></th><th>photons/cm**2/s</th><th>photons/cm**2/s</th><th></th><th>photons/cm**2/s</th><th>photons/cm**2/s</th><th></th><th>s</th><th></th></tr></thead>\n",
       "<thead><tr><th>float64</th><th>float64</th><th>bytes12</th><th>float32</th><th>float32</th><th>float32</th><th>float32</th><th>bool</th><th>float32</th><th>float32</th><th>bool</th><th>float32</th><th>float32</th><th>bool</th><th>float32</th><th>float32</th></tr></thead>\n",
       "<tr><td>240019200.0</td><td>240105600.0</td><td>1ES 1959+650</td><td>300.0</td><td>65.149</td><td>2.9683543e-08</td><td>8.946118e-09</td><td>True</td><td>3.1296924e-08</td><td>2.360751e-11</td><td>True</td><td>2.342277e-07</td><td>2.300978e-09</td><td>True</td><td>86400.0</td><td>0.0</td></tr>\n",
       "<tr><td>240105600.0</td><td>240192000.0</td><td>1ES 1959+650</td><td>300.0</td><td>65.149</td><td>1.4555055e-08</td><td>2.5389044e-12</td><td>True</td><td>8.4028386e-08</td><td>2.4757915e-08</td><td>True</td><td>3.5234922e-07</td><td>8.2566487e-07</td><td>True</td><td>86400.0</td><td>0.0</td></tr>\n",
       "<tr><td>240192000.0</td><td>240278400.0</td><td>1ES 1959+650</td><td>300.0</td><td>65.149</td><td>4.17676e-08</td><td>1.1685102e-08</td><td>True</td><td>3.4367602e-08</td><td>1.3299925e-11</td><td>True</td><td>1.4395637e-07</td><td>2.1996933e-10</td><td>True</td><td>86400.0</td><td>0.0</td></tr>\n",
       "<tr><td>240278400.0</td><td>240364800.0</td><td>1ES 1959+650</td><td>300.0</td><td>65.149</td><td>1.5900813e-08</td><td>3.1649984e-13</td><td>True</td><td>7.0554336e-08</td><td>2.144413e-08</td><td>True</td><td>1.5251545e-07</td><td>5.294928e-08</td><td>True</td><td>86400.0</td><td>0.8331939</td></tr>\n",
       "<tr><td>240364800.0</td><td>240451200.0</td><td>1ES 1959+650</td><td>300.0</td><td>65.149</td><td>1.8311582e-08</td><td>3.717945e-07</td><td>True</td><td>1.3575502e-07</td><td>4.0974587e-08</td><td>True</td><td>2.654991e-07</td><td>1.05335346e-07</td><td>True</td><td>86400.0</td><td>0.40181798</td></tr>\n",
       "<tr><td>240451200.0</td><td>240537600.0</td><td>1ES 1959+650</td><td>300.0</td><td>65.149</td><td>1.4631377e-08</td><td>7.811952e-12</td><td>True</td><td>9.371189e-08</td><td>3.1425916e-08</td><td>True</td><td>5.1875855e-07</td><td>1.8436295e-07</td><td>True</td><td>86400.0</td><td>3.4749458</td></tr>\n",
       "<tr><td>240537600.0</td><td>240624000.0</td><td>1ES 1959+650</td><td>300.0</td><td>65.149</td><td>6.378682e-08</td><td>1.666346e-08</td><td>True</td><td>1.4305894e-07</td><td>4.5609887e-08</td><td>True</td><td>3.834552e-07</td><td>1.1759655e-07</td><td>True</td><td>86400.0</td><td>9.65693</td></tr>\n",
       "<tr><td>240624000.0</td><td>240710400.0</td><td>1ES 1959+650</td><td>300.0</td><td>65.149</td><td>1.7176264e-08</td><td>7.035659e-13</td><td>True</td><td>8.855653e-08</td><td>2.624661e-08</td><td>True</td><td>1.2215114e-07</td><td>2.8323281e-09</td><td>True</td><td>86400.0</td><td>0.0</td></tr>\n",
       "<tr><td>240710400.0</td><td>240796800.0</td><td>1ES 1959+650</td><td>300.0</td><td>65.149</td><td>3.7807677e-08</td><td>9.748018e-09</td><td>True</td><td>3.6180616e-08</td><td>1.0633595e-10</td><td>True</td><td>1.0478018e-07</td><td>4.3940048e-08</td><td>True</td><td>86400.0</td><td>2.9176462</td></tr>\n",
       "<tr><td>...</td><td>...</td><td>...</td><td>...</td><td>...</td><td>...</td><td>...</td><td>...</td><td>...</td><td>...</td><td>...</td><td>...</td><td>...</td><td>...</td><td>...</td><td>...</td></tr>\n",
       "<tr><td>624499200.0</td><td>624585600.0</td><td>1ES 1959+650</td><td>300.0</td><td>65.149</td><td>4.8083635e-08</td><td>1.1997941e-08</td><td>True</td><td>1.3557474e-07</td><td>3.486321e-08</td><td>True</td><td>2.3395614e-07</td><td>7.498119e-08</td><td>True</td><td>86400.0</td><td>5.2178183</td></tr>\n",
       "<tr><td>624585600.0</td><td>624672000.0</td><td>1ES 1959+650</td><td>300.0</td><td>65.149</td><td>1.4569112e-08</td><td>2.7598102e-12</td><td>True</td><td>2.3681238e-08</td><td>5.301905e-11</td><td>True</td><td>1.6998185e-07</td><td>7.223314e-08</td><td>True</td><td>86400.0</td><td>0.052807037</td></tr>\n",
       "<tr><td>624672000.0</td><td>624758400.0</td><td>1ES 1959+650</td><td>300.0</td><td>65.149</td><td>1.2252361e-08</td><td>3.824339e-12</td><td>True</td><td>4.1376065e-08</td><td>1.6188437e-12</td><td>True</td><td>1.2053009e-07</td><td>3.4019548e-11</td><td>True</td><td>86400.0</td><td>0.0</td></tr>\n",
       "<tr><td>624758400.0</td><td>624844800.0</td><td>1ES 1959+650</td><td>300.0</td><td>65.149</td><td>3.0575e-08</td><td>8.244694e-09</td><td>True</td><td>4.021821e-08</td><td>2.8817133e-09</td><td>True</td><td>7.874806e-08</td><td>2.8107339e-08</td><td>True</td><td>86400.0</td><td>0.42785317</td></tr>\n",
       "<tr><td>624844800.0</td><td>624931200.0</td><td>1ES 1959+650</td><td>300.0</td><td>65.149</td><td>4.6490154e-08</td><td>1.330317e-08</td><td>True</td><td>6.855874e-08</td><td>2.488442e-08</td><td>True</td><td>1.245367e-07</td><td>4.751079e-08</td><td>True</td><td>86400.0</td><td>14.319878</td></tr>\n",
       "<tr><td>624931200.0</td><td>625017600.0</td><td>1ES 1959+650</td><td>300.0</td><td>65.149</td><td>2.9371886e-08</td><td>7.548436e-09</td><td>True</td><td>1.2330956e-07</td><td>3.0515277e-08</td><td>True</td><td>2.3398518e-07</td><td>6.650495e-08</td><td>True</td><td>86400.0</td><td>20.82417</td></tr>\n",
       "<tr><td>625017600.0</td><td>625104000.0</td><td>1ES 1959+650</td><td>300.0</td><td>65.149</td><td>2.8453835e-08</td><td>7.824287e-09</td><td>True</td><td>9.217608e-08</td><td>2.775395e-08</td><td>True</td><td>1.4039223e-07</td><td>6.204897e-08</td><td>True</td><td>86400.0</td><td>1.5352708</td></tr>\n",
       "<tr><td>625104000.0</td><td>625190400.0</td><td>1ES 1959+650</td><td>300.0</td><td>65.149</td><td>4.105912e-08</td><td>1.1039462e-08</td><td>True</td><td>1.363999e-07</td><td>3.6778292e-08</td><td>True</td><td>3.44469e-07</td><td>4.5165326e-08</td><td>True</td><td>86400.0</td><td>8.436944</td></tr>\n",
       "<tr><td>625190400.0</td><td>625276800.0</td><td>1ES 1959+650</td><td>300.0</td><td>65.149</td><td>5.035587e-08</td><td>1.307862e-08</td><td>True</td><td>5.3527042e-08</td><td>3.4292251e-09</td><td>True</td><td>1.2618901e-07</td><td>4.288601e-08</td><td>True</td><td>86400.0</td><td>9.787627</td></tr>\n",
       "<tr><td>625276800.0</td><td>625363200.0</td><td>1ES 1959+650</td><td>300.0</td><td>65.149</td><td>2.986164e-08</td><td>8.461572e-09</td><td>True</td><td>2.6085367e-08</td><td>1.8253836e-11</td><td>True</td><td>9.317594e-08</td><td>1.8744689e-10</td><td>True</td><td>86400.0</td><td>0.0</td></tr>\n",
       "</table>"
      ],
      "text/plain": [
       "<Table length=4138>\n",
       "   START        STOP        NAME     ... UL_100_300000 DURATION TEST_STATISTIC\n",
       "     s           s                   ...                  s                   \n",
       "  float64     float64     bytes12    ...      bool     float32     float32    \n",
       "----------- ----------- ------------ ... ------------- -------- --------------\n",
       "240019200.0 240105600.0 1ES 1959+650 ...          True  86400.0            0.0\n",
       "240105600.0 240192000.0 1ES 1959+650 ...          True  86400.0            0.0\n",
       "240192000.0 240278400.0 1ES 1959+650 ...          True  86400.0            0.0\n",
       "240278400.0 240364800.0 1ES 1959+650 ...          True  86400.0      0.8331939\n",
       "240364800.0 240451200.0 1ES 1959+650 ...          True  86400.0     0.40181798\n",
       "240451200.0 240537600.0 1ES 1959+650 ...          True  86400.0      3.4749458\n",
       "240537600.0 240624000.0 1ES 1959+650 ...          True  86400.0        9.65693\n",
       "240624000.0 240710400.0 1ES 1959+650 ...          True  86400.0            0.0\n",
       "240710400.0 240796800.0 1ES 1959+650 ...          True  86400.0      2.9176462\n",
       "        ...         ...          ... ...           ...      ...            ...\n",
       "624499200.0 624585600.0 1ES 1959+650 ...          True  86400.0      5.2178183\n",
       "624585600.0 624672000.0 1ES 1959+650 ...          True  86400.0    0.052807037\n",
       "624672000.0 624758400.0 1ES 1959+650 ...          True  86400.0            0.0\n",
       "624758400.0 624844800.0 1ES 1959+650 ...          True  86400.0     0.42785317\n",
       "624844800.0 624931200.0 1ES 1959+650 ...          True  86400.0      14.319878\n",
       "624931200.0 625017600.0 1ES 1959+650 ...          True  86400.0       20.82417\n",
       "625017600.0 625104000.0 1ES 1959+650 ...          True  86400.0      1.5352708\n",
       "625104000.0 625190400.0 1ES 1959+650 ...          True  86400.0       8.436944\n",
       "625190400.0 625276800.0 1ES 1959+650 ...          True  86400.0       9.787627\n",
       "625276800.0 625363200.0 1ES 1959+650 ...          True  86400.0            0.0"
      ]
     },
     "execution_count": 8,
     "metadata": {},
     "output_type": "execute_result"
    }
   ],
   "source": [
    "daily"
   ]
  },
  {
   "cell_type": "markdown",
   "metadata": {},
   "source": [
    "### Plot the Fermi and FACT light curves\n",
    "\n",
    "\n",
    "Plot the daily (or weekly) Fermi light curves and FACT light curve. \n",
    "\n",
    "For the Fermi light curve, the `TEST_STATISTIC` columns indicates the signficance with which the source is detected in each time bin. The significance in standard deviations is roughly given as the square root of the test statistic. If the source is below a certain threshold, plot the upper limit value instead. "
   ]
  },
  {
   "cell_type": "code",
   "execution_count": 9,
   "metadata": {},
   "outputs": [],
   "source": [
    "# function to convert Fermi mission time (MET) to MJD\n",
    "def met_to_mjd(time):\n",
    "    \"\"\"\"Convert mission elapsed time to mean julian date.\"\"\"\n",
    "    return 54682.65 + (time - 239557414.0) / (86400.)"
   ]
  },
  {
   "cell_type": "code",
   "execution_count": 10,
   "metadata": {},
   "outputs": [],
   "source": [
    "def plot_fermi_lc(lc,\n",
    "                  ts_thr=9.,\n",
    "                  tmin_mjd=0, \n",
    "                  tmax_mjd=1e10,\n",
    "                  ax=None,\n",
    "                  **kwargs\n",
    "                  ):\n",
    "    \"\"\"\n",
    "    Plot a fermi light curve\n",
    "    \n",
    "    Parameters\n",
    "    ----------\n",
    "    lc: `astropy.table.Table`\n",
    "        light curve table\n",
    "        \n",
    "    ts_thr: float\n",
    "        threshold TS value.\n",
    "    \n",
    "    tmin_mjd: float\n",
    "        minimum time in MJD for which light curve is displayed\n",
    "        \n",
    "    tmax_mjd: float\n",
    "        maximum time in MJD for which light curve is displayed\n",
    "    \"\"\"\n",
    "    kwargs.setdefault('ls', 'none')\n",
    "    kwargs.setdefault('marker', 's')\n",
    "    kwargs.setdefault('ms', 5)\n",
    "    kwargs.setdefault('color', plt.cm.tab10(0.1))\n",
    "    \n",
    "    if ax is None:\n",
    "        ax = plt.gca()\n",
    "        \n",
    "    tcen = 0.5 * (met_to_mjd(lc['START']) + met_to_mjd(lc['STOP']))\n",
    "    tmin = met_to_mjd(lc['START'])\n",
    "    tmax = met_to_mjd(lc['STOP'])\n",
    "    \n",
    "    # mask for time range\n",
    "    mt = (tmin >= tmin_mjd - 1.) & (tmax <= tmax_mjd + 1.)\n",
    "    if not np.sum(mt):\n",
    "        raise ValueError(\"No data in requested time range\")\n",
    "    \n",
    "    # mask for detection or upper limit\n",
    "    m = (lc['TEST_STATISTIC'] >= ts_thr) & mt\n",
    "    mul = (lc['TEST_STATISTIC'] < ts_thr) & mt\n",
    "    \n",
    "    y = lc['FLUX_100_300000']\n",
    "    dy = lc['ERROR_100_300000']\n",
    "    if np.sum(m):\n",
    "        ax.errorbar(tcen[m], y[m],\n",
    "                    yerr=dy[m], \n",
    "                    xerr=[tcen[m] - tmin[m], tmax[m] - tcen[m]],\n",
    "                    **kwargs\n",
    "                    )\n",
    "    if np.sum(mul):\n",
    "        ax.errorbar(tcen[mul], y[mul],\n",
    "                    yerr=y[mul] / 4., \n",
    "                    xerr=[tcen[mul] - tmin[mul], tmax[mul] - tcen[mul]],\n",
    "                    uplims=True, **kwargs\n",
    "                    )\n",
    "    ax.set_ylabel(\"Flux (cm$^{-2}$ s$^{-1}$)\")\n",
    "    \n",
    "    return tcen, tmin, tmax, y, dy, m"
   ]
  },
  {
   "cell_type": "markdown",
   "metadata": {},
   "source": [
    "Plot the two light curves on top of each other. From this one can already judge 'by eye' if there's some correlated variability between the FACT and Fermi-LAT energy bands. "
   ]
  },
  {
   "cell_type": "code",
   "execution_count": 11,
   "metadata": {},
   "outputs": [
    {
     "data": {
      "image/png": "[encoded data removed]",
      "text/plain": [
       "<Figure size 864x360 with 2 Axes>"
      ]
     },
     "metadata": {
      "needs_background": "light"
     },
     "output_type": "display_data"
    }
   ],
   "source": [
    "fig = plt.figure(figsize=(12,5))\n",
    "\n",
    "ax = plt.subplot(211)\n",
    "\n",
    "plt.errorbar(mjd, excess_per_hour / 3600.,\n",
    "             yerr=excess_per_hour_err / 3600.,\n",
    "             xerr=[mjd - mjd_min, mjd_max - mjd],\n",
    "             ls='none', marker='o')\n",
    "ax.set_ylabel('excess rate (s$^{-1}$)')\n",
    "ax.grid(alpha=0.25)\n",
    "v = ax.get_xlim()\n",
    "\n",
    "ax = plt.subplot(212)\n",
    "tcen_fermi, tmin_fermi, tmax_fermi, y_fermi, dy_fermi, m_fermi = plot_fermi_lc(\n",
    "    daily, color=plt.cm.tab10(0.), tmin_mjd=mjd.min(), tmax_mjd=mjd.max(), ax=ax, ts_thr=9.)\n",
    "ax.grid(alpha=0.25)\n",
    "ax.set_xlabel('Time')\n",
    "ax.set_xlim(v)\n",
    "\n",
    "fig.subplots_adjust(hspace=0.3)"
   ]
  },
  {
   "cell_type": "markdown",
   "metadata": {},
   "source": [
    "### Apply a Bayesian block analysis to the data\n",
    "\n",
    "We can apply the Bayesian block algorithm to the data (<a href=https://ui.adsabs.harvard.edu/abs/2013ApJ...764..167S>Scargle et al. (2013)</a>). If more than one block is detected, this means that some variability seems to be present in the data. We can also use this algorithm to try to separate multiple flares from each other. For the algorithm, we will assume that the errors follow Gaussian statistics. See also the <a href=https://docs.astropy.org/en/stable/api/astropy.stats.bayesian_blocks.html>documentation</a>.\n"
   ]
  },
  {
   "cell_type": "code",
   "execution_count": 12,
   "metadata": {},
   "outputs": [],
   "source": [
    "from astropy.stats import bayesian_blocks"
   ]
  },
  {
   "cell_type": "markdown",
   "metadata": {},
   "source": [
    "Apply the algorithm to the data. The algorithm returns the time edges where a new block starts."
   ]
  },
  {
   "cell_type": "code",
   "execution_count": 13,
   "metadata": {},
   "outputs": [],
   "source": [
    "edges_fact = bayesian_blocks(mjd, excess_per_hour, sigma=excess_per_hour_err, fitness='measures')\n",
    "edges_fermi = bayesian_blocks(tcen_fermi[m_fermi], y_fermi[m_fermi], sigma=dy_fermi[m_fermi], fitness='measures')"
   ]
  },
  {
   "cell_type": "markdown",
   "metadata": {},
   "source": [
    "Calculate the mean flux per block by looping over the block edges:"
   ]
  },
  {
   "cell_type": "code",
   "execution_count": 14,
   "metadata": {},
   "outputs": [],
   "source": [
    "def calc_mean_flux(edges, t, y):\n",
    "    \n",
    "    y_mean = np.zeros_like(edges[:-1])\n",
    "    t_cen = np.zeros_like(edges[:-1])\n",
    "    \n",
    "    for i, e in enumerate(edges[:-1]):\n",
    "        m = (t >= e) & (t <= edges[i+1])\n",
    "        y_mean[i] = y[m].mean()\n",
    "        t_cen[i] = t[m].mean()\n",
    "        \n",
    "    return t_cen, y_mean"
   ]
  },
  {
   "cell_type": "code",
   "execution_count": 15,
   "metadata": {},
   "outputs": [],
   "source": [
    "t_bb_fact, y_bb_fact = calc_mean_flux(edges_fact, mjd_min, excess_per_hour / 3600.)\n",
    "t_bb_fermi, y_bb_fermi = calc_mean_flux(edges_fermi, tcen_fermi[m_fermi], y_fermi[m_fermi])"
   ]
  },
  {
   "cell_type": "markdown",
   "metadata": {},
   "source": [
    "Plot the light curves, superimposed with the bayesian-block representation"
   ]
  },
  {
   "cell_type": "code",
   "execution_count": 16,
   "metadata": {},
   "outputs": [
    {
     "data": {
      "image/png": "[encoded data removed]",
      "text/plain": [
       "<Figure size 864x360 with 2 Axes>"
      ]
     },
     "metadata": {
      "needs_background": "light"
     },
     "output_type": "display_data"
    }
   ],
   "source": [
    "fig = plt.figure(figsize=(12,5))\n",
    "\n",
    "ax = plt.subplot(211)\n",
    "\n",
    "# FACT data\n",
    "plt.errorbar(mjd, excess_per_hour / 3600.,\n",
    "             yerr=excess_per_hour_err / 3600.,\n",
    "             xerr=[mjd - mjd_min, mjd_max - mjd],\n",
    "             ls='none', marker='o')\n",
    "\n",
    "# FACT Bayesian blocks\n",
    "ax.plot(t_bb_fact, y_bb_fact,\n",
    "        drawstyle='steps-mid', marker='.')\n",
    "\n",
    "\n",
    "ax.set_ylabel('excess rate (s$^{-1}$)')\n",
    "ax.grid(alpha=0.25)\n",
    "v = ax.get_xlim()\n",
    "\n",
    "ax = plt.subplot(212)\n",
    "# Fermi data\n",
    "plot_fermi_lc(daily, color=plt.cm.tab10(0.), tmin_mjd=mjd.min(), tmax_mjd=mjd.max(), ax=ax, ts_thr=9.)\n",
    "\n",
    "# Fermi Bayesian blocks\n",
    "ax.plot(t_bb_fermi, y_bb_fermi, drawstyle='steps-mid', marker='.', color=plt.cm.tab10(0.1))\n",
    "\n",
    "ax.grid(alpha=0.25)\n",
    "ax.set_xlabel('Time')\n",
    "ax.set_xlim(v)\n",
    "\n",
    "fig.subplots_adjust(hspace=0.3)"
   ]
  },
  {
   "cell_type": "markdown",
   "metadata": {},
   "source": [
    "There seems to be more variability in the FACT light curve that does not match the observed variability pattern in the Fermi data. "
   ]
  },
  {
   "cell_type": "markdown",
   "metadata": {},
   "source": [
    "### Fit an exponential rise and decay profile to the FACT data"
   ]
  },
  {
   "cell_type": "markdown",
   "metadata": {},
   "source": [
    "We use <a href=https://docs.scipy.org/doc/scipy/reference/generated/scipy.optimize.curve_fit.html> `scipy.optimize.curve_fit` </a> to estimate the best-fit parameters."
   ]
  },
  {
   "cell_type": "code",
   "execution_count": 17,
   "metadata": {},
   "outputs": [],
   "source": [
    "from scipy.optimize import curve_fit"
   ]
  },
  {
   "cell_type": "markdown",
   "metadata": {},
   "source": [
    "From the Bayesian block representation, it seems that there are two flares present in the data: one before MJD 57547 and one afterwards. We focus on the time before MJD 57547. For this time range, we want to fit an exponential rise and decay function to the excess light curve. This function can be defined as follows:\n",
    "\n",
    "$$F(t) = \\frac{2F_0}{\\exp((t-t_0)/\\tau_\\mathrm{rise}) + \\exp((t_0-t)/\\tau_\\mathrm{decay})},$$\n",
    "\n",
    "with free parameters $F_0$, $t_0$, as well as the rise and decay times $\\tau_\\mathrm{rise}$ and $\\tau_\\mathrm{decay}$.\n",
    "\n",
    "First define the fitting function:"
   ]
  },
  {
   "cell_type": "code",
   "execution_count": 24,
   "metadata": {},
   "outputs": [],
   "source": [
    "def f(t, *p):\n",
    "    m = t < p[1]\n",
    "    result = np.zeros_like(t)\n",
    "    result[m] = p[0] * np.exp((t[m]-p[1]) / p[2])\n",
    "    result[~m] = p[0] * np.exp(-(t[~m]-p[1]) / p[3])\n",
    "    return result"
   ]
  },
  {
   "cell_type": "code",
   "execution_count": 25,
   "metadata": {},
   "outputs": [],
   "source": [
    "m_flare = (mjd < 57548)  # limit the time range"
   ]
  },
  {
   "cell_type": "markdown",
   "metadata": {},
   "source": [
    "A first inital guess:"
   ]
  },
  {
   "cell_type": "code",
   "execution_count": 58,
   "metadata": {},
   "outputs": [],
   "source": [
    "trise = 1.3\n",
    "tdecay = 2.5\n",
    "f0 = excess_per_hour[m_flare].max()\n",
    "t0 = mjd[m_flare][np.argmax(excess_per_hour[m_flare])]\n",
    "\n",
    "pinit = [\n",
    "    f0, \n",
    "    t0,   # time of the peak\n",
    "    trise,  # rise time\n",
    "    tdecay,  # decay time\n",
    "]"
   ]
  },
  {
   "cell_type": "code",
   "execution_count": 59,
   "metadata": {},
   "outputs": [
    {
     "data": {
      "text/plain": [
       "57545"
      ]
     },
     "execution_count": 59,
     "metadata": {},
     "output_type": "execute_result"
    }
   ],
   "source": [
    " mjd[m_flare][np.argmax(excess_per_hour[m_flare])]"
   ]
  },
  {
   "cell_type": "code",
   "execution_count": 78,
   "metadata": {},
   "outputs": [],
   "source": [
    "popt, pcov = curve_fit(f, mjd[m_flare],\n",
    "                       excess_per_hour_err[m_flare],\n",
    "                       sigma=excess_per_hour_err[m_flare],\n",
    "                       p0=[1., t0-1, 1., 1.],\n",
    "                       absolute_sigma=True\n",
    "                      )"
   ]
  },
  {
   "cell_type": "markdown",
   "metadata": {},
   "source": [
    "Plot the best fit"
   ]
  },
  {
   "cell_type": "code",
   "execution_count": 79,
   "metadata": {},
   "outputs": [
    {
     "data": {
      "text/plain": [
       "[<matplotlib.lines.Line2D at 0x12c719f98>]"
      ]
     },
     "execution_count": 79,
     "metadata": {},
     "output_type": "execute_result"
    },
    {
     "data": {
      "image/png": "[encoded data removed]",
      "text/plain": [
       "<Figure size 432x288 with 1 Axes>"
      ]
     },
     "metadata": {
      "needs_background": "light"
     },
     "output_type": "display_data"
    }
   ],
   "source": [
    "# FACT data\n",
    "plt.errorbar(mjd[m_flare],\n",
    "             excess_per_hour[m_flare],\n",
    "             yerr=excess_per_hour_err[m_flare],\n",
    "             xerr=[mjd[m_flare] - mjd_min[m_flare], mjd_max[m_flare] - mjd[m_flare]],\n",
    "             ls='none', marker='o')\n",
    "\n",
    "x = np.arange(mjd_min[m_flare].min(), mjd_max[m_flare].max() + 0.1, 0.1)\n",
    "plt.plot(x, f(x, *popt))\n",
    "plt.plot(x, f(x, *pinit))"
   ]
  },
  {
   "cell_type": "markdown",
   "metadata": {},
   "source": [
    "Number of degrees of freedom:"
   ]
  },
  {
   "cell_type": "code",
   "execution_count": 62,
   "metadata": {},
   "outputs": [],
   "source": [
    "dof = mjd[m_flare].size - len(popt)"
   ]
  },
  {
   "cell_type": "markdown",
   "metadata": {},
   "source": [
    "Print the reduced $\\chi^2$:"
   ]
  },
  {
   "cell_type": "code",
   "execution_count": 63,
   "metadata": {},
   "outputs": [
    {
     "name": "stdout",
     "output_type": "stream",
     "text": [
      "1.0268758810217047\n",
      "92.24262529679639\n"
     ]
    }
   ],
   "source": [
    "# initial parameters:\n",
    "print (np.sum(((excess_per_hour[m_flare] - f(mjd[m_flare], *pinit)) / (excess_per_hour_err[m_flare]))**2.) / dof)\n",
    "\n",
    "# final parameters:\n",
    "print (np.sum(((excess_per_hour[m_flare] - f(mjd[m_flare], *popt)) / (excess_per_hour_err[m_flare]))**2.) / dof)"
   ]
  },
  {
   "cell_type": "markdown",
   "metadata": {},
   "source": [
    "This is not really working yet, probably because fit can't find a good minimum. Still needs some work. "
   ]
  },
  {
   "cell_type": "code",
   "execution_count": 64,
   "metadata": {},
   "outputs": [
    {
     "name": "stdout",
     "output_type": "stream",
     "text": [
      "[3.94438552e+00 5.75446239e+04 1.89179119e+00 3.85449438e+00]\n"
     ]
    }
   ],
   "source": [
    "print (popt)"
   ]
  },
  {
   "cell_type": "code",
   "execution_count": 65,
   "metadata": {},
   "outputs": [
    {
     "name": "stdout",
     "output_type": "stream",
     "text": [
      "[[ 1.09005553e+01  2.42591755e+00 -1.94780621e+00 -2.71156363e+01]\n",
      " [ 2.42591755e+00  3.90307839e+00  1.90326362e+00 -1.30081751e+01]\n",
      " [-1.94780621e+00  1.90326362e+00  2.52788168e+00  9.14028131e-08]\n",
      " [-2.71156363e+01 -1.30081751e+01  9.14028142e-08  1.10674445e+02]]\n"
     ]
    }
   ],
   "source": [
    "print (pcov)"
   ]
  },
  {
   "cell_type": "code",
   "execution_count": null,
   "metadata": {},
   "outputs": [],
   "source": []
  }
 ],
 "metadata": {
  "kernelspec": {
   "display_name": "Python [conda env:gammapy-0.16]",
   "language": "python",
   "name": "conda-env-gammapy-0.16-py"
  },
  "language_info": {
   "codemirror_mode": {
    "name": "ipython",
    "version": 3
   },
   "file_extension": ".py",
   "mimetype": "text/x-python",
   "name": "python",
   "nbconvert_exporter": "python",
   "pygments_lexer": "ipython3",
   "version": "3.7.0"
  }
 },
 "nbformat": 4,
 "nbformat_minor": 2
}
