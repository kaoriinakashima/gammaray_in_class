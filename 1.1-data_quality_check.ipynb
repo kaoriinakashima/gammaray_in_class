{
 "cells": [
  {
   "cell_type": "markdown",
   "metadata": {},
   "source": [
    "# Checking on the data quality \n"
   ]
  },
  {
   "cell_type": "code",
   "execution_count": 225,
   "metadata": {},
   "outputs": [],
   "source": [
    "import numpy as np\n",
    "import pickle\n",
    "import mysql.connector\n",
    "import matplotlib.pyplot as plt\n",
    "import pandas as pd\n",
    "import pymysql\n",
    "import os\n",
    "from matplotlib.offsetbox import AnchoredText\n",
    "from scipy.stats import chisquare"
   ]
  },
  {
   "cell_type": "markdown",
   "metadata": {},
   "source": [
    "### Retrieving and cleaning the data"
   ]
  },
  {
   "cell_type": "code",
   "execution_count": 226,
   "metadata": {},
   "outputs": [],
   "source": [
    "# this is how we connect and put the mql command\n",
    "\n",
    "def query(command):\n",
    "    conn = mysql.connector.connect(user='xxxx',password='xxxxx',host='xxxx',database='xxxx',port='xxxx')\n",
    "    cursor = conn.cursor()    \n",
    "    result = pd.read_sql_query(command, conn)\n",
    "    conn.close()\n",
    "    return result"
   ]
  },
  {
   "cell_type": "code",
   "execution_count": 227,
   "metadata": {},
   "outputs": [],
   "source": [
    "cmd = '''\n",
    "SELECT\n",
    "   fileid,\n",
    "   fCurrentsMedMean,\n",
    "   fNumThreshold500,\n",
    "   fNumThreshold750,\n",
    "   fNumThreshold1000,\n",
    "   fEffectiveOn,\n",
    "   fRunStart,\n",
    "   fRunStop,\n",
    "   fZenithDistanceMean\n",
    "FROM\n",
    "    RunInfo\n",
    "'''\n",
    "\n",
    "data = query(cmd)"
   ]
  },
  {
   "cell_type": "code",
   "execution_count": 228,
   "metadata": {},
   "outputs": [
    {
     "data": {
      "text/plain": [
       "(369290, 9)"
      ]
     },
     "execution_count": 228,
     "metadata": {},
     "output_type": "execute_result"
    }
   ],
   "source": [
    "data.shape"
   ]
  },
  {
   "cell_type": "code",
   "execution_count": 229,
   "metadata": {},
   "outputs": [],
   "source": [
    "df = data[(data['fRunStart'] > pd.Timestamp('2016-02-18')) & (data['fRunStart'] < pd.Timestamp('2016-08-31'))]"
   ]
  },
  {
   "cell_type": "code",
   "execution_count": 230,
   "metadata": {},
   "outputs": [
    {
     "data": {
      "text/html": [
       "<div>\n",
       "<style scoped>\n",
       "    .dataframe tbody tr th:only-of-type {\n",
       "        vertical-align: middle;\n",
       "    }\n",
       "\n",
       "    .dataframe tbody tr th {\n",
       "        vertical-align: top;\n",
       "    }\n",
       "\n",
       "    .dataframe thead th {\n",
       "        text-align: right;\n",
       "    }\n",
       "</style>\n",
       "<table border=\"1\" class=\"dataframe\">\n",
       "  <thead>\n",
       "    <tr style=\"text-align: right;\">\n",
       "      <th></th>\n",
       "      <th>fileid</th>\n",
       "      <th>fCurrentsMedMean</th>\n",
       "      <th>fNumThreshold500</th>\n",
       "      <th>fNumThreshold750</th>\n",
       "      <th>fNumThreshold1000</th>\n",
       "      <th>fEffectiveOn</th>\n",
       "      <th>fRunStart</th>\n",
       "      <th>fRunStop</th>\n",
       "      <th>fZenithDistanceMean</th>\n",
       "    </tr>\n",
       "  </thead>\n",
       "  <tbody>\n",
       "    <tr>\n",
       "      <th>176531</th>\n",
       "      <td>160217092</td>\n",
       "      <td>NaN</td>\n",
       "      <td>2000.0</td>\n",
       "      <td>1213.0</td>\n",
       "      <td>812.0</td>\n",
       "      <td>NaN</td>\n",
       "      <td>2016-02-18 00:00:07</td>\n",
       "      <td>2016-02-18 00:05:07</td>\n",
       "      <td>30.77</td>\n",
       "    </tr>\n",
       "    <tr>\n",
       "      <th>176532</th>\n",
       "      <td>160217093</td>\n",
       "      <td>NaN</td>\n",
       "      <td>NaN</td>\n",
       "      <td>NaN</td>\n",
       "      <td>NaN</td>\n",
       "      <td>0.9835</td>\n",
       "      <td>2016-02-18 00:05:33</td>\n",
       "      <td>2016-02-18 00:06:13</td>\n",
       "      <td>31.32</td>\n",
       "    </tr>\n",
       "    <tr>\n",
       "      <th>176533</th>\n",
       "      <td>160217094</td>\n",
       "      <td>-5.1</td>\n",
       "      <td>NaN</td>\n",
       "      <td>NaN</td>\n",
       "      <td>NaN</td>\n",
       "      <td>0.9883</td>\n",
       "      <td>2016-02-18 00:06:15</td>\n",
       "      <td>2016-02-18 00:06:55</td>\n",
       "      <td>31.19</td>\n",
       "    </tr>\n",
       "    <tr>\n",
       "      <th>176534</th>\n",
       "      <td>160217095</td>\n",
       "      <td>-5.1</td>\n",
       "      <td>NaN</td>\n",
       "      <td>NaN</td>\n",
       "      <td>NaN</td>\n",
       "      <td>0.9017</td>\n",
       "      <td>2016-02-18 00:06:56</td>\n",
       "      <td>2016-02-18 00:07:01</td>\n",
       "      <td>31.11</td>\n",
       "    </tr>\n",
       "    <tr>\n",
       "      <th>176535</th>\n",
       "      <td>160217096</td>\n",
       "      <td>-5.1</td>\n",
       "      <td>NaN</td>\n",
       "      <td>NaN</td>\n",
       "      <td>NaN</td>\n",
       "      <td>0.9014</td>\n",
       "      <td>2016-02-18 00:07:02</td>\n",
       "      <td>2016-02-18 00:07:07</td>\n",
       "      <td>31.09</td>\n",
       "    </tr>\n",
       "    <tr>\n",
       "      <th>...</th>\n",
       "      <td>...</td>\n",
       "      <td>...</td>\n",
       "      <td>...</td>\n",
       "      <td>...</td>\n",
       "      <td>...</td>\n",
       "      <td>...</td>\n",
       "      <td>...</td>\n",
       "      <td>...</td>\n",
       "      <td>...</td>\n",
       "    </tr>\n",
       "    <tr>\n",
       "      <th>203339</th>\n",
       "      <td>160830081</td>\n",
       "      <td>4.8</td>\n",
       "      <td>NaN</td>\n",
       "      <td>NaN</td>\n",
       "      <td>NaN</td>\n",
       "      <td>0.8663</td>\n",
       "      <td>2016-08-30 23:42:26</td>\n",
       "      <td>2016-08-30 23:42:31</td>\n",
       "      <td>37.40</td>\n",
       "    </tr>\n",
       "    <tr>\n",
       "      <th>203340</th>\n",
       "      <td>160830082</td>\n",
       "      <td>4.7</td>\n",
       "      <td>1760.0</td>\n",
       "      <td>1015.0</td>\n",
       "      <td>705.0</td>\n",
       "      <td>0.9567</td>\n",
       "      <td>2016-08-30 23:42:34</td>\n",
       "      <td>2016-08-30 23:47:34</td>\n",
       "      <td>37.52</td>\n",
       "    </tr>\n",
       "    <tr>\n",
       "      <th>203341</th>\n",
       "      <td>160830083</td>\n",
       "      <td>4.7</td>\n",
       "      <td>1843.0</td>\n",
       "      <td>1083.0</td>\n",
       "      <td>729.0</td>\n",
       "      <td>0.9563</td>\n",
       "      <td>2016-08-30 23:47:39</td>\n",
       "      <td>2016-08-30 23:52:39</td>\n",
       "      <td>37.76</td>\n",
       "    </tr>\n",
       "    <tr>\n",
       "      <th>203342</th>\n",
       "      <td>160830084</td>\n",
       "      <td>4.7</td>\n",
       "      <td>1737.0</td>\n",
       "      <td>985.0</td>\n",
       "      <td>662.0</td>\n",
       "      <td>0.9572</td>\n",
       "      <td>2016-08-30 23:52:43</td>\n",
       "      <td>2016-08-30 23:57:43</td>\n",
       "      <td>38.01</td>\n",
       "    </tr>\n",
       "    <tr>\n",
       "      <th>203343</th>\n",
       "      <td>160830085</td>\n",
       "      <td>4.7</td>\n",
       "      <td>1724.0</td>\n",
       "      <td>987.0</td>\n",
       "      <td>673.0</td>\n",
       "      <td>0.9561</td>\n",
       "      <td>2016-08-30 23:57:48</td>\n",
       "      <td>2016-08-31 00:02:48</td>\n",
       "      <td>38.28</td>\n",
       "    </tr>\n",
       "  </tbody>\n",
       "</table>\n",
       "<p>26812 rows × 9 columns</p>\n",
       "</div>"
      ],
      "text/plain": [
       "           fileid  fCurrentsMedMean  fNumThreshold500  fNumThreshold750  \\\n",
       "176531  160217092               NaN            2000.0            1213.0   \n",
       "176532  160217093               NaN               NaN               NaN   \n",
       "176533  160217094              -5.1               NaN               NaN   \n",
       "176534  160217095              -5.1               NaN               NaN   \n",
       "176535  160217096              -5.1               NaN               NaN   \n",
       "...           ...               ...               ...               ...   \n",
       "203339  160830081               4.8               NaN               NaN   \n",
       "203340  160830082               4.7            1760.0            1015.0   \n",
       "203341  160830083               4.7            1843.0            1083.0   \n",
       "203342  160830084               4.7            1737.0             985.0   \n",
       "203343  160830085               4.7            1724.0             987.0   \n",
       "\n",
       "        fNumThreshold1000  fEffectiveOn           fRunStart  \\\n",
       "176531              812.0           NaN 2016-02-18 00:00:07   \n",
       "176532                NaN        0.9835 2016-02-18 00:05:33   \n",
       "176533                NaN        0.9883 2016-02-18 00:06:15   \n",
       "176534                NaN        0.9017 2016-02-18 00:06:56   \n",
       "176535                NaN        0.9014 2016-02-18 00:07:02   \n",
       "...                   ...           ...                 ...   \n",
       "203339                NaN        0.8663 2016-08-30 23:42:26   \n",
       "203340              705.0        0.9567 2016-08-30 23:42:34   \n",
       "203341              729.0        0.9563 2016-08-30 23:47:39   \n",
       "203342              662.0        0.9572 2016-08-30 23:52:43   \n",
       "203343              673.0        0.9561 2016-08-30 23:57:48   \n",
       "\n",
       "                  fRunStop  fZenithDistanceMean  \n",
       "176531 2016-02-18 00:05:07                30.77  \n",
       "176532 2016-02-18 00:06:13                31.32  \n",
       "176533 2016-02-18 00:06:55                31.19  \n",
       "176534 2016-02-18 00:07:01                31.11  \n",
       "176535 2016-02-18 00:07:07                31.09  \n",
       "...                    ...                  ...  \n",
       "203339 2016-08-30 23:42:31                37.40  \n",
       "203340 2016-08-30 23:47:34                37.52  \n",
       "203341 2016-08-30 23:52:39                37.76  \n",
       "203342 2016-08-30 23:57:43                38.01  \n",
       "203343 2016-08-31 00:02:48                38.28  \n",
       "\n",
       "[26812 rows x 9 columns]"
      ]
     },
     "execution_count": 230,
     "metadata": {},
     "output_type": "execute_result"
    }
   ],
   "source": [
    "df"
   ]
  },
  {
   "cell_type": "code",
   "execution_count": 231,
   "metadata": {},
   "outputs": [],
   "source": [
    "df = df.dropna()\n",
    "df = df[df['fEffectiveOn'] != 0]"
   ]
  },
  {
   "cell_type": "code",
   "execution_count": 232,
   "metadata": {},
   "outputs": [
    {
     "data": {
      "text/html": [
       "<div>\n",
       "<style scoped>\n",
       "    .dataframe tbody tr th:only-of-type {\n",
       "        vertical-align: middle;\n",
       "    }\n",
       "\n",
       "    .dataframe tbody tr th {\n",
       "        vertical-align: top;\n",
       "    }\n",
       "\n",
       "    .dataframe thead th {\n",
       "        text-align: right;\n",
       "    }\n",
       "</style>\n",
       "<table border=\"1\" class=\"dataframe\">\n",
       "  <thead>\n",
       "    <tr style=\"text-align: right;\">\n",
       "      <th></th>\n",
       "      <th>fileid</th>\n",
       "      <th>fCurrentsMedMean</th>\n",
       "      <th>fNumThreshold500</th>\n",
       "      <th>fNumThreshold750</th>\n",
       "      <th>fNumThreshold1000</th>\n",
       "      <th>fEffectiveOn</th>\n",
       "      <th>fRunStart</th>\n",
       "      <th>fRunStop</th>\n",
       "      <th>fZenithDistanceMean</th>\n",
       "    </tr>\n",
       "  </thead>\n",
       "  <tbody>\n",
       "    <tr>\n",
       "      <th>176537</th>\n",
       "      <td>160217098</td>\n",
       "      <td>45.1</td>\n",
       "      <td>2027.0</td>\n",
       "      <td>1216.0</td>\n",
       "      <td>841.0</td>\n",
       "      <td>0.9619</td>\n",
       "      <td>2016-02-18 00:07:44</td>\n",
       "      <td>2016-02-18 00:12:44</td>\n",
       "      <td>30.47</td>\n",
       "    </tr>\n",
       "    <tr>\n",
       "      <th>176538</th>\n",
       "      <td>160217099</td>\n",
       "      <td>44.3</td>\n",
       "      <td>2053.0</td>\n",
       "      <td>1178.0</td>\n",
       "      <td>814.0</td>\n",
       "      <td>0.9636</td>\n",
       "      <td>2016-02-18 00:12:49</td>\n",
       "      <td>2016-02-18 00:17:49</td>\n",
       "      <td>29.48</td>\n",
       "    </tr>\n",
       "    <tr>\n",
       "      <th>176539</th>\n",
       "      <td>160217100</td>\n",
       "      <td>43.9</td>\n",
       "      <td>2056.0</td>\n",
       "      <td>1185.0</td>\n",
       "      <td>801.0</td>\n",
       "      <td>0.9574</td>\n",
       "      <td>2016-02-18 00:17:53</td>\n",
       "      <td>2016-02-18 00:22:53</td>\n",
       "      <td>28.49</td>\n",
       "    </tr>\n",
       "    <tr>\n",
       "      <th>176540</th>\n",
       "      <td>160217101</td>\n",
       "      <td>43.2</td>\n",
       "      <td>2117.0</td>\n",
       "      <td>1243.0</td>\n",
       "      <td>848.0</td>\n",
       "      <td>0.9733</td>\n",
       "      <td>2016-02-18 00:22:58</td>\n",
       "      <td>2016-02-18 00:27:58</td>\n",
       "      <td>27.51</td>\n",
       "    </tr>\n",
       "    <tr>\n",
       "      <th>176542</th>\n",
       "      <td>160217103</td>\n",
       "      <td>42.7</td>\n",
       "      <td>2023.0</td>\n",
       "      <td>1194.0</td>\n",
       "      <td>814.0</td>\n",
       "      <td>0.9730</td>\n",
       "      <td>2016-02-18 00:28:28</td>\n",
       "      <td>2016-02-18 00:33:28</td>\n",
       "      <td>25.27</td>\n",
       "    </tr>\n",
       "    <tr>\n",
       "      <th>...</th>\n",
       "      <td>...</td>\n",
       "      <td>...</td>\n",
       "      <td>...</td>\n",
       "      <td>...</td>\n",
       "      <td>...</td>\n",
       "      <td>...</td>\n",
       "      <td>...</td>\n",
       "      <td>...</td>\n",
       "      <td>...</td>\n",
       "    </tr>\n",
       "    <tr>\n",
       "      <th>203338</th>\n",
       "      <td>160830080</td>\n",
       "      <td>4.6</td>\n",
       "      <td>1804.0</td>\n",
       "      <td>1029.0</td>\n",
       "      <td>706.0</td>\n",
       "      <td>0.9564</td>\n",
       "      <td>2016-08-30 23:37:08</td>\n",
       "      <td>2016-08-30 23:42:08</td>\n",
       "      <td>38.48</td>\n",
       "    </tr>\n",
       "    <tr>\n",
       "      <th>203340</th>\n",
       "      <td>160830082</td>\n",
       "      <td>4.7</td>\n",
       "      <td>1760.0</td>\n",
       "      <td>1015.0</td>\n",
       "      <td>705.0</td>\n",
       "      <td>0.9567</td>\n",
       "      <td>2016-08-30 23:42:34</td>\n",
       "      <td>2016-08-30 23:47:34</td>\n",
       "      <td>37.52</td>\n",
       "    </tr>\n",
       "    <tr>\n",
       "      <th>203341</th>\n",
       "      <td>160830083</td>\n",
       "      <td>4.7</td>\n",
       "      <td>1843.0</td>\n",
       "      <td>1083.0</td>\n",
       "      <td>729.0</td>\n",
       "      <td>0.9563</td>\n",
       "      <td>2016-08-30 23:47:39</td>\n",
       "      <td>2016-08-30 23:52:39</td>\n",
       "      <td>37.76</td>\n",
       "    </tr>\n",
       "    <tr>\n",
       "      <th>203342</th>\n",
       "      <td>160830084</td>\n",
       "      <td>4.7</td>\n",
       "      <td>1737.0</td>\n",
       "      <td>985.0</td>\n",
       "      <td>662.0</td>\n",
       "      <td>0.9572</td>\n",
       "      <td>2016-08-30 23:52:43</td>\n",
       "      <td>2016-08-30 23:57:43</td>\n",
       "      <td>38.01</td>\n",
       "    </tr>\n",
       "    <tr>\n",
       "      <th>203343</th>\n",
       "      <td>160830085</td>\n",
       "      <td>4.7</td>\n",
       "      <td>1724.0</td>\n",
       "      <td>987.0</td>\n",
       "      <td>673.0</td>\n",
       "      <td>0.9561</td>\n",
       "      <td>2016-08-30 23:57:48</td>\n",
       "      <td>2016-08-31 00:02:48</td>\n",
       "      <td>38.28</td>\n",
       "    </tr>\n",
       "  </tbody>\n",
       "</table>\n",
       "<p>17752 rows × 9 columns</p>\n",
       "</div>"
      ],
      "text/plain": [
       "           fileid  fCurrentsMedMean  fNumThreshold500  fNumThreshold750  \\\n",
       "176537  160217098              45.1            2027.0            1216.0   \n",
       "176538  160217099              44.3            2053.0            1178.0   \n",
       "176539  160217100              43.9            2056.0            1185.0   \n",
       "176540  160217101              43.2            2117.0            1243.0   \n",
       "176542  160217103              42.7            2023.0            1194.0   \n",
       "...           ...               ...               ...               ...   \n",
       "203338  160830080               4.6            1804.0            1029.0   \n",
       "203340  160830082               4.7            1760.0            1015.0   \n",
       "203341  160830083               4.7            1843.0            1083.0   \n",
       "203342  160830084               4.7            1737.0             985.0   \n",
       "203343  160830085               4.7            1724.0             987.0   \n",
       "\n",
       "        fNumThreshold1000  fEffectiveOn           fRunStart  \\\n",
       "176537              841.0        0.9619 2016-02-18 00:07:44   \n",
       "176538              814.0        0.9636 2016-02-18 00:12:49   \n",
       "176539              801.0        0.9574 2016-02-18 00:17:53   \n",
       "176540              848.0        0.9733 2016-02-18 00:22:58   \n",
       "176542              814.0        0.9730 2016-02-18 00:28:28   \n",
       "...                   ...           ...                 ...   \n",
       "203338              706.0        0.9564 2016-08-30 23:37:08   \n",
       "203340              705.0        0.9567 2016-08-30 23:42:34   \n",
       "203341              729.0        0.9563 2016-08-30 23:47:39   \n",
       "203342              662.0        0.9572 2016-08-30 23:52:43   \n",
       "203343              673.0        0.9561 2016-08-30 23:57:48   \n",
       "\n",
       "                  fRunStop  fZenithDistanceMean  \n",
       "176537 2016-02-18 00:12:44                30.47  \n",
       "176538 2016-02-18 00:17:49                29.48  \n",
       "176539 2016-02-18 00:22:53                28.49  \n",
       "176540 2016-02-18 00:27:58                27.51  \n",
       "176542 2016-02-18 00:33:28                25.27  \n",
       "...                    ...                  ...  \n",
       "203338 2016-08-30 23:42:08                38.48  \n",
       "203340 2016-08-30 23:47:34                37.52  \n",
       "203341 2016-08-30 23:52:39                37.76  \n",
       "203342 2016-08-30 23:57:43                38.01  \n",
       "203343 2016-08-31 00:02:48                38.28  \n",
       "\n",
       "[17752 rows x 9 columns]"
      ]
     },
     "execution_count": 232,
     "metadata": {},
     "output_type": "execute_result"
    }
   ],
   "source": [
    "df"
   ]
  },
  {
   "cell_type": "code",
   "execution_count": 233,
   "metadata": {},
   "outputs": [],
   "source": [
    "trigger_threshold = 'fNumThreshold750'"
   ]
  },
  {
   "cell_type": "markdown",
   "metadata": {},
   "source": [
    "\n",
    "\n",
    "### To find the optimal trigger threshold, perform a linear regression and assess its goodness"
   ]
  },
  {
   "cell_type": "code",
   "execution_count": 234,
   "metadata": {},
   "outputs": [],
   "source": [
    "timedelta = ((df.fRunStop - df.fRunStart) / df.fEffectiveOn)\n",
    "eff_on_time = timedelta.dt.total_seconds()"
   ]
  },
  {
   "cell_type": "code",
   "execution_count": 235,
   "metadata": {},
   "outputs": [],
   "source": [
    "x = df.fCurrentsMedMean\n",
    "\n",
    "# Change the dataset to test data with different thresholds\n",
    "\n",
    "y = df[trigger_threshold] / eff_on_time \n"
   ]
  },
  {
   "cell_type": "code",
   "execution_count": 236,
   "metadata": {},
   "outputs": [
    {
     "data": {
      "text/plain": [
       "(17752,)"
      ]
     },
     "execution_count": 236,
     "metadata": {},
     "output_type": "execute_result"
    }
   ],
   "source": [
    "y.shape"
   ]
  },
  {
   "cell_type": "code",
   "execution_count": 237,
   "metadata": {},
   "outputs": [],
   "source": [
    "def test_chisquare(x, y):\n",
    "    '''\n",
    "    calculating chi-squared from the given data \n",
    "    while testing the goodness of a linear fit. \n",
    "    '''\n",
    "    \n",
    "    # calculate expected values\n",
    "    predicted_y = np.poly1d(np.polyfit(x, y, 1))(x)\n",
    "    \n",
    "    sigma = y.var()\n",
    "    \n",
    "    chi_squared = ((y - predicted_y)**2/ sigma).sum()\n",
    "    return chi_squared\n"
   ]
  },
  {
   "cell_type": "code",
   "execution_count": 238,
   "metadata": {},
   "outputs": [],
   "source": [
    "chi2_per_ndf = test_chisquare(x,y)/(len(y) - 2)"
   ]
  },
  {
   "cell_type": "code",
   "execution_count": 239,
   "metadata": {},
   "outputs": [
    {
     "data": {
      "text/plain": [
       "0.9916551886878198"
      ]
     },
     "execution_count": 239,
     "metadata": {},
     "output_type": "execute_result"
    }
   ],
   "source": [
    "chi2_per_ndf"
   ]
  },
  {
   "cell_type": "code",
   "execution_count": 240,
   "metadata": {},
   "outputs": [],
   "source": [
    "# get p0 and p_1, the highest degree of the polynomial fit is indicated first!\n",
    "linear_fit = np.poly1d(np.polyfit(x, y, 1))\n",
    "p1 = linear_fit[0]\n",
    "p0 = linear_fit[1]"
   ]
  },
  {
   "cell_type": "code",
   "execution_count": 241,
   "metadata": {},
   "outputs": [],
   "source": [
    "f_exp = linear_fit(x)"
   ]
  },
  {
   "cell_type": "code",
   "execution_count": 242,
   "metadata": {},
   "outputs": [
    {
     "data": {
      "text/plain": [
       "<matplotlib.offsetbox.AnchoredText at 0x7fa7ca586610>"
      ]
     },
     "execution_count": 242,
     "metadata": {},
     "output_type": "execute_result"
    },
    {
     "data": {
      "image/png": "[encoded data removed]",
      "text/plain": [
       "<Figure size 432x288 with 1 Axes>"
      ]
     },
     "metadata": {
      "needs_background": "light"
     },
     "output_type": "display_data"
    }
   ],
   "source": [
    "plt.scatter(x, y, label = 'data')\n",
    "plt.plot(x, f_exp, color='red', label = 'linear fit')\n",
    "plt.xlabel(r'current')\n",
    "plt.ylabel('Trigger rate with threshold XXX')\n",
    "\n",
    "plt.title(r'Trigger rate stability assessment')\n",
    "plt.legend()\n",
    "plt.legend(loc='lower right')\n",
    "\n",
    "\n",
    "ax = plt.gca()\n",
    "at0 = AnchoredText(\n",
    "                f\"p0 = {round(p0,4)}\\n\"\n",
    "                f\"p1 = {round(p1,4)}\\n\"\n",
    "                f\"chi2/ndf = {round(chi2_per_ndf,4)}\"\n",
    "                , loc='upper right')\n",
    "\n",
    "# zooming in\n",
    "#ax.set_ylim(-0.25, 6)\n",
    "\n",
    "ax.add_artist(at0)"
   ]
  },
  {
   "cell_type": "markdown",
   "metadata": {},
   "source": [
    "### Plot trigger rate vs Zenith angle"
   ]
  },
  {
   "cell_type": "code",
   "execution_count": 243,
   "metadata": {},
   "outputs": [],
   "source": [
    "def bin_triggerrate_per_zenith(df, bin_size, tr):\n",
    "    ''' \n",
    "    Trigger rates are returned with binning per Zenith angle. \n",
    "    '''\n",
    "  \n",
    "    bins = np.rint((df.fZenithDistanceMean.max() - df.fZenithDistanceMean.min()) / bin_size)\n",
    "    n_bins = int(bins)\n",
    "    z_bins = np.linspace(df.fZenithDistanceMean.min(), df.fZenithDistanceMean.max(), n_bins) \n",
    "\n",
    "    x = [(z_bins[i] + z_bins[i+1])/2 for i in range(len(z_bins)-1)]\n",
    "    y = []\n",
    "    \n",
    "    df['trigger_rate_norm'] = df[tr] / eff_on_time\n",
    "\n",
    "    for i in range(len(z_bins) -1):\n",
    "        z_max = z_bins[i + 1]\n",
    "        z_min = z_bins[i]\n",
    "        y.append(y.append(df[(df['fZenithDistanceMean'] <= z_max) & (df['fZenithDistanceMean'] > z_min)]['trigger_rate_norm'].mean()))\n",
    "    return x, y"
   ]
  },
  {
   "cell_type": "code",
   "execution_count": 244,
   "metadata": {},
   "outputs": [],
   "source": [
    "zen, triggerrate = bin_triggerrate_per_zenith(df, 5, trigger_threshold)"
   ]
  },
  {
   "cell_type": "code",
   "execution_count": 245,
   "metadata": {},
   "outputs": [],
   "source": [
    "zen = np.array(zen)\n",
    "triggerrate = [x for x in triggerrate if x is not None]\n",
    "triggerrate = np.array(triggerrate)"
   ]
  },
  {
   "cell_type": "code",
   "execution_count": 246,
   "metadata": {},
   "outputs": [],
   "source": [
    "zen_cut = 32"
   ]
  },
  {
   "cell_type": "code",
   "execution_count": 247,
   "metadata": {},
   "outputs": [
    {
     "data": {
      "text/plain": [
       "Text(0, 0.5, 'Trigger rate / on time')"
      ]
     },
     "execution_count": 247,
     "metadata": {},
     "output_type": "execute_result"
    },
    {
     "data": {
      "image/png": "[encoded data removed]",
      "text/plain": [
       "<Figure size 432x288 with 1 Axes>"
      ]
     },
     "metadata": {
      "needs_background": "light"
     },
     "output_type": "display_data"
    }
   ],
   "source": [
    "plt.scatter(zen, triggerrate)\n",
    "plt.vlines(x=zen_cut, ymin=plt.ylim()[0], ymax=plt.ylim()[1], ls='--', color='black')\n",
    "\n",
    "plt.title(r'Trigger rate vs Zenith angle')\n",
    "plt.xlabel('Zenith angle ')\n",
    "plt.ylabel('Trigger rate / on time')"
   ]
  },
  {
   "cell_type": "code",
   "execution_count": null,
   "metadata": {},
   "outputs": [],
   "source": []
  },
  {
   "cell_type": "code",
   "execution_count": null,
   "metadata": {},
   "outputs": [],
   "source": []
  }
 ],
 "metadata": {
  "kernelspec": {
   "display_name": "gammainclass",
   "language": "python",
   "name": "gammainclass"
  },
  "language_info": {
   "codemirror_mode": {
    "name": "ipython",
    "version": 3
   },
   "file_extension": ".py",
   "mimetype": "text/x-python",
   "name": "python",
   "nbconvert_exporter": "python",
   "pygments_lexer": "ipython3",
   "version": "3.7.7"
  }
 },
 "nbformat": 4,
 "nbformat_minor": 4
}
